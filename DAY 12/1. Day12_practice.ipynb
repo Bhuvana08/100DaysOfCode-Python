{
 "cells": [
  {
   "cell_type": "code",
   "execution_count": 1,
   "id": "2468e6dc",
   "metadata": {},
   "outputs": [],
   "source": [
    "# Namespaces - Local and Global"
   ]
  },
  {
   "cell_type": "code",
   "execution_count": 2,
   "id": "a98a0fc0",
   "metadata": {},
   "outputs": [
    {
     "name": "stdout",
     "output_type": "stream",
     "text": [
      "enemies inside function : 2\n",
      "enemies outside function: 1\n"
     ]
    }
   ],
   "source": [
    "enemies = 1\n",
    "\n",
    "def increase_enemies():\n",
    "    enemies = 2\n",
    "    print(f\"enemies inside function : {enemies}\")\n",
    "    \n",
    "increase_enemies()\n",
    "print(f\"enemies outside function: {enemies}\")"
   ]
  },
  {
   "cell_type": "code",
   "execution_count": 4,
   "id": "bbcbacff",
   "metadata": {},
   "outputs": [
    {
     "name": "stdout",
     "output_type": "stream",
     "text": [
      "2\n"
     ]
    },
    {
     "ename": "NameError",
     "evalue": "name 'portion_strength' is not defined",
     "output_type": "error",
     "traceback": [
      "\u001b[1;31m---------------------------------------------------------------------------\u001b[0m",
      "\u001b[1;31mNameError\u001b[0m                                 Traceback (most recent call last)",
      "\u001b[1;32m<ipython-input-4-9d7821c43b68>\u001b[0m in \u001b[0;36m<module>\u001b[1;34m\u001b[0m\n\u001b[0;32m      5\u001b[0m \u001b[1;33m\u001b[0m\u001b[0m\n\u001b[0;32m      6\u001b[0m \u001b[0mdrink_portion\u001b[0m\u001b[1;33m(\u001b[0m\u001b[1;33m)\u001b[0m\u001b[1;33m\u001b[0m\u001b[1;33m\u001b[0m\u001b[0m\n\u001b[1;32m----> 7\u001b[1;33m \u001b[0mprint\u001b[0m\u001b[1;33m(\u001b[0m\u001b[0mportion_strength\u001b[0m\u001b[1;33m)\u001b[0m\u001b[1;33m\u001b[0m\u001b[1;33m\u001b[0m\u001b[0m\n\u001b[0m",
      "\u001b[1;31mNameError\u001b[0m: name 'portion_strength' is not defined"
     ]
    }
   ],
   "source": [
    "# Local scope - exists within functions\n",
    "def drink_portion():\n",
    "    portion_strength = 2\n",
    "    print(portion_strength)\n",
    "    \n",
    "drink_portion()\n",
    "print(portion_strength)"
   ]
  },
  {
   "cell_type": "code",
   "execution_count": 5,
   "id": "ef1c43dd",
   "metadata": {},
   "outputs": [
    {
     "name": "stdout",
     "output_type": "stream",
     "text": [
      "10\n"
     ]
    }
   ],
   "source": [
    "# Global scope\n",
    "player_health = 10\n",
    "\n",
    "def drink_portion():\n",
    "    portion_strength = 2\n",
    "    print(player_health)\n",
    "    \n",
    "drink_portion()"
   ]
  },
  {
   "cell_type": "code",
   "execution_count": 8,
   "id": "43123b41",
   "metadata": {},
   "outputs": [],
   "source": [
    "# Block scope\n",
    "# There is no block scope"
   ]
  },
  {
   "cell_type": "code",
   "execution_count": 9,
   "id": "84d4e371",
   "metadata": {},
   "outputs": [
    {
     "data": {
      "text/plain": [
       "'Skeleton'"
      ]
     },
     "execution_count": 9,
     "metadata": {},
     "output_type": "execute_result"
    }
   ],
   "source": [
    "game_level = 3\n",
    "enemies = [\"Skeleton\",\"Zombie\",\"Alien\"]\n",
    "if game_level < 5:\n",
    "    new_enemy = enemies[0]\n",
    "new_enemy"
   ]
  },
  {
   "cell_type": "code",
   "execution_count": 1,
   "id": "63818c43",
   "metadata": {},
   "outputs": [
    {
     "ename": "NameError",
     "evalue": "name 'new_enemy' is not defined",
     "output_type": "error",
     "traceback": [
      "\u001b[1;31m---------------------------------------------------------------------------\u001b[0m",
      "\u001b[1;31mNameError\u001b[0m                                 Traceback (most recent call last)",
      "\u001b[1;32m<ipython-input-1-9f02a620d9e0>\u001b[0m in \u001b[0;36m<module>\u001b[1;34m\u001b[0m\n\u001b[0;32m      5\u001b[0m     \u001b[1;32mif\u001b[0m \u001b[0mgame_level\u001b[0m \u001b[1;33m<\u001b[0m \u001b[1;36m5\u001b[0m\u001b[1;33m:\u001b[0m\u001b[1;33m\u001b[0m\u001b[1;33m\u001b[0m\u001b[0m\n\u001b[0;32m      6\u001b[0m         \u001b[0mnew_enemy\u001b[0m \u001b[1;33m=\u001b[0m \u001b[0menemies\u001b[0m\u001b[1;33m[\u001b[0m\u001b[1;36m0\u001b[0m\u001b[1;33m]\u001b[0m\u001b[1;33m\u001b[0m\u001b[1;33m\u001b[0m\u001b[0m\n\u001b[1;32m----> 7\u001b[1;33m \u001b[0mprint\u001b[0m\u001b[1;33m(\u001b[0m\u001b[0mnew_enemy\u001b[0m\u001b[1;33m)\u001b[0m\u001b[1;33m\u001b[0m\u001b[1;33m\u001b[0m\u001b[0m\n\u001b[0m",
      "\u001b[1;31mNameError\u001b[0m: name 'new_enemy' is not defined"
     ]
    }
   ],
   "source": [
    "game_level = 3\n",
    "\n",
    "def create_enemy():\n",
    "    enemies = [\"Skeleton\",\"Zombie\",\"Alien\"]\n",
    "    if game_level < 5:\n",
    "        new_enemy = enemies[0]\n",
    "print(new_enemy)"
   ]
  },
  {
   "cell_type": "code",
   "execution_count": 2,
   "id": "68aae207",
   "metadata": {},
   "outputs": [],
   "source": [
    "# Modify global variable"
   ]
  },
  {
   "cell_type": "code",
   "execution_count": 7,
   "id": "1edf4671",
   "metadata": {},
   "outputs": [
    {
     "name": "stdout",
     "output_type": "stream",
     "text": [
      "enemies inside function : 2\n",
      "enemies outside function: 2\n"
     ]
    }
   ],
   "source": [
    "enemies = 1\n",
    "\n",
    "def increase_enemies():\n",
    "    global enemies\n",
    "    enemies  += 1\n",
    "    print(f\"enemies inside function : {enemies}\")\n",
    "    \n",
    "increase_enemies()\n",
    "print(f\"enemies outside function: {enemies}\")"
   ]
  },
  {
   "cell_type": "code",
   "execution_count": 8,
   "id": "46846fe5",
   "metadata": {},
   "outputs": [
    {
     "name": "stdout",
     "output_type": "stream",
     "text": [
      "enemies inside function : 1\n",
      "enemies outside function: 2\n"
     ]
    }
   ],
   "source": [
    "# Don't try to change the global scope of variable with a local scope\n",
    "#Instead you can do like this\n",
    "enemies = 1\n",
    "\n",
    "def increase_enemies():\n",
    "    \n",
    "    print(f\"enemies inside function : {enemies}\")\n",
    "    return enemies + 1\n",
    "    \n",
    "enemies = increase_enemies()\n",
    "print(f\"enemies outside function: {enemies}\")"
   ]
  },
  {
   "cell_type": "code",
   "execution_count": 10,
   "id": "c955c96e",
   "metadata": {},
   "outputs": [],
   "source": [
    "# Python constants and Global Scope\n",
    "\n",
    "PI = 3.1414\n",
    "URL = \"https://www.google.com\""
   ]
  },
  {
   "cell_type": "code",
   "execution_count": null,
   "id": "75c69b00",
   "metadata": {},
   "outputs": [],
   "source": []
  }
 ],
 "metadata": {
  "kernelspec": {
   "display_name": "Python 3",
   "language": "python",
   "name": "python3"
  },
  "language_info": {
   "codemirror_mode": {
    "name": "ipython",
    "version": 3
   },
   "file_extension": ".py",
   "mimetype": "text/x-python",
   "name": "python",
   "nbconvert_exporter": "python",
   "pygments_lexer": "ipython3",
   "version": "3.8.8"
  }
 },
 "nbformat": 4,
 "nbformat_minor": 5
}
