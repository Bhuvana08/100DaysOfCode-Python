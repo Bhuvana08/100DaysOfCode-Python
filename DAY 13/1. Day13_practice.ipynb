{
 "cells": [
  {
   "cell_type": "code",
   "execution_count": 1,
   "id": "6c34a4f6",
   "metadata": {},
   "outputs": [],
   "source": [
    "#### Debugging ###"
   ]
  },
  {
   "cell_type": "code",
   "execution_count": 2,
   "id": "e15452d3",
   "metadata": {},
   "outputs": [],
   "source": [
    "# # Describe Problem\n",
    "# def my_function():\n",
    "#   for i in range(1, 20):\n",
    "#     if i == 20:\n",
    "#       print(\"You got it\")\n",
    "# my_function()"
   ]
  },
  {
   "cell_type": "code",
   "execution_count": 4,
   "id": "445c7b0e",
   "metadata": {},
   "outputs": [
    {
     "name": "stdout",
     "output_type": "stream",
     "text": [
      "You got it\n"
     ]
    }
   ],
   "source": [
    "# Describe Problem\n",
    "def my_function():\n",
    "  for i in range(1, 21): # To print that line, the loop should iterrate through 20, not 19\n",
    "    if i == 20:\n",
    "      print(\"You got it\")\n",
    "my_function()"
   ]
  },
  {
   "cell_type": "code",
   "execution_count": 5,
   "id": "3aeb9c86",
   "metadata": {},
   "outputs": [],
   "source": [
    "# # Reproduce the Bug\n",
    "# from random import randint\n",
    "# dice_imgs = [\"❶\", \"❷\", \"❸\", \"❹\", \"❺\", \"❻\"]\n",
    "# dice_num = randint(1, 6)\n",
    "# print(dice_imgs[dice_num]"
   ]
  },
  {
   "cell_type": "code",
   "execution_count": 15,
   "id": "a527862d",
   "metadata": {},
   "outputs": [
    {
     "name": "stdout",
     "output_type": "stream",
     "text": [
      "❹\n"
     ]
    }
   ],
   "source": [
    "# Reproduce the Bug\n",
    "from random import randint\n",
    "dice_imgs = [\"❶\", \"❷\", \"❸\", \"❹\", \"❺\", \"❻\"]\n",
    "dice_num = randint(0,5)\n",
    "print(dice_imgs[dice_num])"
   ]
  },
  {
   "cell_type": "code",
   "execution_count": 16,
   "id": "607e8a28",
   "metadata": {},
   "outputs": [],
   "source": [
    "# # Play Computer\n",
    "# year = int(input(\"What's your year of birth?\"))\n",
    "# if year > 1980 and year < 1994:\n",
    "#   print(\"You are a millenial.\")\n",
    "# elif year > 1994:\n",
    "#   print(\"You are a Gen Z.\")"
   ]
  },
  {
   "cell_type": "code",
   "execution_count": 21,
   "id": "f675102c",
   "metadata": {},
   "outputs": [
    {
     "name": "stdout",
     "output_type": "stream",
     "text": [
      "What's your year of birth?1982\n",
      "You are a millenial.\n"
     ]
    }
   ],
   "source": [
    "# # Play Computer\n",
    "year = int(input(\"What's your year of birth?\"))\n",
    "if year > 1980 and year < 1994:\n",
    "      print(\"You are a millenial.\")\n",
    "elif year >= 1994:\n",
    "      print(\"You are a Gen Z.\")"
   ]
  },
  {
   "cell_type": "code",
   "execution_count": 22,
   "id": "08d9f238",
   "metadata": {},
   "outputs": [],
   "source": [
    "# # Fix the Errors\n",
    "# age = input(\"How old are you?\")\n",
    "# if age > 18:\n",
    "# print(\"You can drive at age {age}.\")"
   ]
  },
  {
   "cell_type": "code",
   "execution_count": 26,
   "id": "588777df",
   "metadata": {},
   "outputs": [
    {
     "name": "stdout",
     "output_type": "stream",
     "text": [
      "How old are you?22\n",
      "You can drive at age 22.\n"
     ]
    }
   ],
   "source": [
    "# # Fix the Errors\n",
    "age = int(input(\"How old are you?\"))\n",
    "if age > 18:\n",
    "    print(f\"You can drive at age {age}.\")"
   ]
  },
  {
   "cell_type": "code",
   "execution_count": 27,
   "id": "ff37e209",
   "metadata": {},
   "outputs": [],
   "source": [
    "# #Print is Your Friend\n",
    "# pages = 0\n",
    "# word_per_page = 0\n",
    "# pages = int(input(\"Number of pages: \"))\n",
    "# word_per_page == int(input(\"Number of words per page: \"))\n",
    "# total_words = pages * word_per_page\n",
    "# print(total_words)"
   ]
  },
  {
   "cell_type": "code",
   "execution_count": 30,
   "id": "ec900263",
   "metadata": {},
   "outputs": [
    {
     "name": "stdout",
     "output_type": "stream",
     "text": [
      "Number of pages: 20\n",
      "Number of words per page: 240\n",
      "pages = 20\n",
      "word_per_page = 240\n",
      "4800\n"
     ]
    }
   ],
   "source": [
    "# #Print is Your Friend\n",
    "pages = 0\n",
    "word_per_page = 0\n",
    "pages = int(input(\"Number of pages: \"))\n",
    "word_per_page = int(input(\"Number of words per page: \"))\n",
    "total_words = pages * word_per_page\n",
    "print(f\"pages = {pages}\")\n",
    "print(f\"word_per_page = {word_per_page}\")\n",
    "print(total_words)"
   ]
  },
  {
   "cell_type": "code",
   "execution_count": 31,
   "id": "534d42d5",
   "metadata": {},
   "outputs": [],
   "source": [
    "# #Use a Debugger\n",
    "# def mutate(a_list):\n",
    "#   b_list = []\n",
    "#   for item in a_list:\n",
    "#     new_item = item * 2\n",
    "#   b_list.append(new_item)\n",
    "#   print(b_list)"
   ]
  },
  {
   "cell_type": "code",
   "execution_count": 35,
   "id": "13dcd861",
   "metadata": {},
   "outputs": [
    {
     "name": "stdout",
     "output_type": "stream",
     "text": [
      "[2, 4, 6, 10, 16, 26]\n"
     ]
    }
   ],
   "source": [
    "#Use a Debugger\n",
    "def mutate(a_list):\n",
    "  b_list = []\n",
    "  for item in a_list:\n",
    "    new_item = item * 2\n",
    "    b_list.append(new_item)\n",
    "  print(b_list)\n",
    "    \n",
    "mutate([1,2,3,5,8,13])"
   ]
  },
  {
   "cell_type": "code",
   "execution_count": 33,
   "id": "41439ca7",
   "metadata": {},
   "outputs": [],
   "source": [
    "# Visualize in pyhtontutor.com"
   ]
  },
  {
   "cell_type": "code",
   "execution_count": null,
   "id": "eab667b0",
   "metadata": {},
   "outputs": [],
   "source": []
  }
 ],
 "metadata": {
  "kernelspec": {
   "display_name": "Python 3",
   "language": "python",
   "name": "python3"
  },
  "language_info": {
   "codemirror_mode": {
    "name": "ipython",
    "version": 3
   },
   "file_extension": ".py",
   "mimetype": "text/x-python",
   "name": "python",
   "nbconvert_exporter": "python",
   "pygments_lexer": "ipython3",
   "version": "3.8.8"
  }
 },
 "nbformat": 4,
 "nbformat_minor": 5
}
