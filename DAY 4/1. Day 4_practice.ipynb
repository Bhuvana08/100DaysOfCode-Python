{
 "cells": [
  {
   "cell_type": "code",
   "execution_count": 1,
   "id": "9c877041",
   "metadata": {},
   "outputs": [],
   "source": [
    "# randomisation and Lists"
   ]
  },
  {
   "cell_type": "code",
   "execution_count": 2,
   "id": "ea8f5020",
   "metadata": {},
   "outputs": [],
   "source": [
    "# Randomisation"
   ]
  },
  {
   "cell_type": "code",
   "execution_count": 3,
   "id": "8c6f4f4f",
   "metadata": {},
   "outputs": [],
   "source": [
    "import random"
   ]
  },
  {
   "cell_type": "code",
   "execution_count": 12,
   "id": "1c379789",
   "metadata": {},
   "outputs": [],
   "source": [
    "random_integer = random.randint(0,10) #start and end range is inclusive"
   ]
  },
  {
   "cell_type": "code",
   "execution_count": 13,
   "id": "ef6b040e",
   "metadata": {},
   "outputs": [
    {
     "data": {
      "text/plain": [
       "6"
      ]
     },
     "execution_count": 13,
     "metadata": {},
     "output_type": "execute_result"
    }
   ],
   "source": [
    "random_integer"
   ]
  },
  {
   "cell_type": "code",
   "execution_count": 16,
   "id": "a6975060",
   "metadata": {},
   "outputs": [],
   "source": [
    "random_float = random.random() # generate random floating between 0.0 and 1.0, 0 inclusive and 1 exclusive"
   ]
  },
  {
   "cell_type": "code",
   "execution_count": 17,
   "id": "edc82b97",
   "metadata": {},
   "outputs": [
    {
     "data": {
      "text/plain": [
       "0.3153636116338051"
      ]
     },
     "execution_count": 17,
     "metadata": {},
     "output_type": "execute_result"
    }
   ],
   "source": [
    "random_float"
   ]
  },
  {
   "cell_type": "code",
   "execution_count": 67,
   "id": "7fc03f51",
   "metadata": {},
   "outputs": [
    {
     "name": "stdout",
     "output_type": "stream",
     "text": [
      "2.4309387394676008\n"
     ]
    }
   ],
   "source": [
    "# How to create a random decimal number between 0 and 5 ? \n",
    "\n",
    "random_decimal = random.random()*5\n",
    "print(random_decimal)"
   ]
  },
  {
   "cell_type": "code",
   "execution_count": 75,
   "id": "7f614ddc",
   "metadata": {},
   "outputs": [
    {
     "name": "stdout",
     "output_type": "stream",
     "text": [
      "Your love score is 79\n"
     ]
    }
   ],
   "source": [
    "love_score = random.randint(0,100)\n",
    "print(f\"Your love score is {love_score}\")"
   ]
  },
  {
   "cell_type": "code",
   "execution_count": 76,
   "id": "28cdd0c1",
   "metadata": {},
   "outputs": [],
   "source": [
    "# Lists - Data Structure(a way of organizing and storing data)"
   ]
  },
  {
   "cell_type": "code",
   "execution_count": 1,
   "id": "034e1a8a",
   "metadata": {},
   "outputs": [],
   "source": [
    "states_of_india = [\"Andhra Pradesh\",\"Telangana\",\"Tami Nadu\",\"Kerala\",\"Karnataka\"]"
   ]
  },
  {
   "cell_type": "code",
   "execution_count": 2,
   "id": "60a145d4",
   "metadata": {},
   "outputs": [
    {
     "data": {
      "text/plain": [
       "'Andhra Pradesh'"
      ]
     },
     "execution_count": 2,
     "metadata": {},
     "output_type": "execute_result"
    }
   ],
   "source": [
    "states_of_india[0]"
   ]
  },
  {
   "cell_type": "code",
   "execution_count": 3,
   "id": "6ba19db5",
   "metadata": {},
   "outputs": [
    {
     "data": {
      "text/plain": [
       "'Karnataka'"
      ]
     },
     "execution_count": 3,
     "metadata": {},
     "output_type": "execute_result"
    }
   ],
   "source": [
    "states_of_india[-1]"
   ]
  },
  {
   "cell_type": "code",
   "execution_count": 4,
   "id": "9f7adca2",
   "metadata": {},
   "outputs": [],
   "source": [
    "state = states_of_india[-3]"
   ]
  },
  {
   "cell_type": "code",
   "execution_count": 5,
   "id": "79953d01",
   "metadata": {},
   "outputs": [
    {
     "data": {
      "text/plain": [
       "'Tami Nadu'"
      ]
     },
     "execution_count": 5,
     "metadata": {},
     "output_type": "execute_result"
    }
   ],
   "source": [
    "state"
   ]
  },
  {
   "cell_type": "code",
   "execution_count": 6,
   "id": "f97290d3",
   "metadata": {},
   "outputs": [],
   "source": [
    "states_of_india[-1] = \"Odisha\""
   ]
  },
  {
   "cell_type": "code",
   "execution_count": 7,
   "id": "a1f24303",
   "metadata": {},
   "outputs": [
    {
     "data": {
      "text/plain": [
       "['Andhra Pradesh', 'Telangana', 'Tami Nadu', 'Kerala', 'Odisha']"
      ]
     },
     "execution_count": 7,
     "metadata": {},
     "output_type": "execute_result"
    }
   ],
   "source": [
    "states_of_india"
   ]
  },
  {
   "cell_type": "code",
   "execution_count": 8,
   "id": "e27549c2",
   "metadata": {},
   "outputs": [],
   "source": [
    "states_of_india.append(\"Karnataka\")"
   ]
  },
  {
   "cell_type": "code",
   "execution_count": 9,
   "id": "a90d68ec",
   "metadata": {},
   "outputs": [],
   "source": [
    "states_of_india.append(\"Madhya Pradesh\")"
   ]
  },
  {
   "cell_type": "code",
   "execution_count": 10,
   "id": "64f0473f",
   "metadata": {},
   "outputs": [],
   "source": [
    "states_of_india.extend([\"Goa\",\"New Delhi\"])"
   ]
  },
  {
   "cell_type": "code",
   "execution_count": 11,
   "id": "0f507492",
   "metadata": {},
   "outputs": [
    {
     "data": {
      "text/plain": [
       "['Andhra Pradesh',\n",
       " 'Telangana',\n",
       " 'Tami Nadu',\n",
       " 'Kerala',\n",
       " 'Odisha',\n",
       " 'Karnataka',\n",
       " 'Madhya Pradesh',\n",
       " 'Goa',\n",
       " 'New Delhi']"
      ]
     },
     "execution_count": 11,
     "metadata": {},
     "output_type": "execute_result"
    }
   ],
   "source": [
    "states_of_india"
   ]
  },
  {
   "cell_type": "code",
   "execution_count": 12,
   "id": "79db460d",
   "metadata": {},
   "outputs": [],
   "source": [
    "# Nested Lists\n",
    "\n",
    "nested_list = [[\"Kurti\",\"T-shirt\",\"Top\"],[\"Jeans\",\"Trousers\",\"Chudi\"]]"
   ]
  },
  {
   "cell_type": "code",
   "execution_count": null,
   "id": "6dd08df6",
   "metadata": {},
   "outputs": [],
   "source": []
  }
 ],
 "metadata": {
  "kernelspec": {
   "display_name": "Python 3",
   "language": "python",
   "name": "python3"
  },
  "language_info": {
   "codemirror_mode": {
    "name": "ipython",
    "version": 3
   },
   "file_extension": ".py",
   "mimetype": "text/x-python",
   "name": "python",
   "nbconvert_exporter": "python",
   "pygments_lexer": "ipython3",
   "version": "3.8.8"
  }
 },
 "nbformat": 4,
 "nbformat_minor": 5
}
