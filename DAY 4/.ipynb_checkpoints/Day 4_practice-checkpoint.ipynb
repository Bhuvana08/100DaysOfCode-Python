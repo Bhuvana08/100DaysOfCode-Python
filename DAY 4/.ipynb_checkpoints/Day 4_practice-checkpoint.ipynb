{
 "cells": [
  {
   "cell_type": "code",
   "execution_count": 1,
   "id": "9c877041",
   "metadata": {},
   "outputs": [],
   "source": [
    "# randomisation and Lists"
   ]
  },
  {
   "cell_type": "code",
   "execution_count": 2,
   "id": "ea8f5020",
   "metadata": {},
   "outputs": [],
   "source": [
    "# Randomisation"
   ]
  },
  {
   "cell_type": "code",
   "execution_count": 3,
   "id": "8c6f4f4f",
   "metadata": {},
   "outputs": [],
   "source": [
    "import random"
   ]
  },
  {
   "cell_type": "code",
   "execution_count": 12,
   "id": "1c379789",
   "metadata": {},
   "outputs": [],
   "source": [
    "random_integer = random.randint(0,10) #start and end range is inclusive"
   ]
  },
  {
   "cell_type": "code",
   "execution_count": 13,
   "id": "ef6b040e",
   "metadata": {},
   "outputs": [
    {
     "data": {
      "text/plain": [
       "6"
      ]
     },
     "execution_count": 13,
     "metadata": {},
     "output_type": "execute_result"
    }
   ],
   "source": [
    "random_integer"
   ]
  },
  {
   "cell_type": "code",
   "execution_count": 16,
   "id": "a6975060",
   "metadata": {},
   "outputs": [],
   "source": [
    "random_float = random.random() # generate random floating between 0.0 and 1.0, 0 inclusive and 1 exclusive"
   ]
  },
  {
   "cell_type": "code",
   "execution_count": 17,
   "id": "edc82b97",
   "metadata": {},
   "outputs": [
    {
     "data": {
      "text/plain": [
       "0.3153636116338051"
      ]
     },
     "execution_count": 17,
     "metadata": {},
     "output_type": "execute_result"
    }
   ],
   "source": [
    "random_float"
   ]
  },
  {
   "cell_type": "code",
   "execution_count": 67,
   "id": "7fc03f51",
   "metadata": {},
   "outputs": [
    {
     "name": "stdout",
     "output_type": "stream",
     "text": [
      "2.4309387394676008\n"
     ]
    }
   ],
   "source": [
    "# How to create a random decimal number between 0 and 5 ? \n",
    "\n",
    "random_decimal = random.random()*5\n",
    "print(random_decimal)"
   ]
  },
  {
   "cell_type": "code",
   "execution_count": 75,
   "id": "7f614ddc",
   "metadata": {},
   "outputs": [
    {
     "name": "stdout",
     "output_type": "stream",
     "text": [
      "Your love score is 79\n"
     ]
    }
   ],
   "source": [
    "love_score = random.randint(0,100)\n",
    "print(f\"Your love score is {love_score}\")"
   ]
  },
  {
   "cell_type": "code",
   "execution_count": 76,
   "id": "28cdd0c1",
   "metadata": {},
   "outputs": [],
   "source": [
    "# Lists - Data Structure(a way of organizing and storing data)"
   ]
  },
  {
   "cell_type": "code",
   "execution_count": null,
   "id": "034e1a8a",
   "metadata": {},
   "outputs": [],
   "source": []
  }
 ],
 "metadata": {
  "kernelspec": {
   "display_name": "Python 3",
   "language": "python",
   "name": "python3"
  },
  "language_info": {
   "codemirror_mode": {
    "name": "ipython",
    "version": 3
   },
   "file_extension": ".py",
   "mimetype": "text/x-python",
   "name": "python",
   "nbconvert_exporter": "python",
   "pygments_lexer": "ipython3",
   "version": "3.8.8"
  }
 },
 "nbformat": 4,
 "nbformat_minor": 5
}
