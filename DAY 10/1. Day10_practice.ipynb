{
 "cells": [
  {
   "cell_type": "code",
   "execution_count": 1,
   "id": "3594ae6d",
   "metadata": {},
   "outputs": [],
   "source": [
    "# Functions with outputs"
   ]
  },
  {
   "cell_type": "code",
   "execution_count": 6,
   "id": "fa1f8f99",
   "metadata": {},
   "outputs": [],
   "source": [
    "def format_name(f_name,l_name):\n",
    "    formatted_f_name = f_name.title()\n",
    "    formatted_l_name = l_name.title()\n",
    "    return formatted_f_name + \" \"+formatted_l_name"
   ]
  },
  {
   "cell_type": "code",
   "execution_count": 7,
   "id": "f5d46158",
   "metadata": {},
   "outputs": [],
   "source": [
    "full_name = format_name(\"bhuvana\",\"KOdati\")"
   ]
  },
  {
   "cell_type": "code",
   "execution_count": 8,
   "id": "62280ccd",
   "metadata": {},
   "outputs": [
    {
     "data": {
      "text/plain": [
       "'Bhuvana Kodati'"
      ]
     },
     "execution_count": 8,
     "metadata": {},
     "output_type": "execute_result"
    }
   ],
   "source": [
    "full_name"
   ]
  },
  {
   "cell_type": "code",
   "execution_count": 4,
   "id": "4a2c68b4",
   "metadata": {},
   "outputs": [],
   "source": [
    "def format_name(f_name,l_name):\n",
    "    if f_name == \"\" or l_name == \"\":\n",
    "        return \"You didn't provide valid inputs\"\n",
    "    formatted_f_name = f_name.title()\n",
    "    formatted_l_name = l_name.title()\n",
    "    return formatted_f_name + \" \"+formatted_l_name"
   ]
  },
  {
   "cell_type": "code",
   "execution_count": 5,
   "id": "682df80e",
   "metadata": {},
   "outputs": [
    {
     "name": "stdout",
     "output_type": "stream",
     "text": [
      "First name: \n",
      "Last name : \n"
     ]
    },
    {
     "data": {
      "text/plain": [
       "\"You didn't provide valid inputs\""
      ]
     },
     "execution_count": 5,
     "metadata": {},
     "output_type": "execute_result"
    }
   ],
   "source": [
    "format_name(input(\"First name: \"),input(\"Last name : \"))"
   ]
  },
  {
   "cell_type": "code",
   "execution_count": 6,
   "id": "d96cd1ed",
   "metadata": {},
   "outputs": [],
   "source": [
    "# Docstrings - add documentation to block of code\n",
    "\n",
    "def format_name(f_name,l_name):\n",
    "    '''Take a first and last name and format it \n",
    "    to return the title case version of the name'''\n",
    "    if f_name == \"\" or l_name == \"\":\n",
    "        return \"You didn't provide valid inputs\"\n",
    "    formatted_f_name = f_name.title()\n",
    "    formatted_l_name = l_name.title()\n",
    "    return formatted_f_name + \" \"+formatted_l_name"
   ]
  },
  {
   "cell_type": "code",
   "execution_count": 7,
   "id": "559f3a77",
   "metadata": {},
   "outputs": [
    {
     "data": {
      "text/plain": [
       "\"You didn't provide valid inputs\""
      ]
     },
     "execution_count": 7,
     "metadata": {},
     "output_type": "execute_result"
    }
   ],
   "source": [
    "format_name('',' ')"
   ]
  },
  {
   "cell_type": "code",
   "execution_count": null,
   "id": "b0de7dfe",
   "metadata": {},
   "outputs": [],
   "source": []
  }
 ],
 "metadata": {
  "kernelspec": {
   "display_name": "Python 3",
   "language": "python",
   "name": "python3"
  },
  "language_info": {
   "codemirror_mode": {
    "name": "ipython",
    "version": 3
   },
   "file_extension": ".py",
   "mimetype": "text/x-python",
   "name": "python",
   "nbconvert_exporter": "python",
   "pygments_lexer": "ipython3",
   "version": "3.8.8"
  }
 },
 "nbformat": 4,
 "nbformat_minor": 5
}
