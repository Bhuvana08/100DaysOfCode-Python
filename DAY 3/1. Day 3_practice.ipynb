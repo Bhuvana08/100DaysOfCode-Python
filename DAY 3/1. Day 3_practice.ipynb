{
 "cells": [
  {
   "cell_type": "code",
   "execution_count": 1,
   "id": "e6781646",
   "metadata": {},
   "outputs": [],
   "source": [
    "# Conditional Statements,Logical Operators,Code Blocks and scope"
   ]
  },
  {
   "cell_type": "code",
   "execution_count": 4,
   "id": "1e8843ad",
   "metadata": {},
   "outputs": [
    {
     "name": "stdout",
     "output_type": "stream",
     "text": [
      "Welcome to the rollercoaster!\n",
      "What is your height in cm? 120\n",
      "Can ride\n"
     ]
    }
   ],
   "source": [
    "print(\"Welcome to the rollercoaster!\")\n",
    "height = int(input(\"What is your height in cm? \"))\n",
    "\n",
    "if height >= 120:\n",
    "    print(\"Can ride\")\n",
    "else:\n",
    "    print(\"Can't ride\")"
   ]
  },
  {
   "cell_type": "code",
   "execution_count": 5,
   "id": "311595cf",
   "metadata": {},
   "outputs": [],
   "source": [
    "# Comparision operators\n",
    "# >,<,>=,<=,==,!="
   ]
  },
  {
   "cell_type": "code",
   "execution_count": 6,
   "id": "f10abc5c",
   "metadata": {},
   "outputs": [
    {
     "name": "stdout",
     "output_type": "stream",
     "text": [
      "Welcome to the rollercoaster!\n",
      "What is your height in cm? 120\n",
      "You can ride the rollercoaster\n",
      "What is your age? 18\n",
      "Please pay $12\n"
     ]
    }
   ],
   "source": [
    "print(\"Welcome to the rollercoaster!\")\n",
    "height = int(input(\"What is your height in cm? \"))\n",
    "\n",
    "\n",
    "if height >= 120:\n",
    "    print(\"You can ride the rollercoaster\")\n",
    "    age = int(input(\"What is your age? \"))\n",
    "    if age >= 18:\n",
    "        print(\"Please pay $12\")\n",
    "    else:\n",
    "        print(\"Please pay $7\")\n",
    "else:\n",
    "    print(\"Sorry, you have to grow taller before you can ride.\")"
   ]
  },
  {
   "cell_type": "code",
   "execution_count": 9,
   "id": "49e61480",
   "metadata": {},
   "outputs": [
    {
     "name": "stdout",
     "output_type": "stream",
     "text": [
      "Welcome to the rollercoaster!\n",
      "What is your height in cm? 130\n",
      "You can ride the rollercoaster\n",
      "What is your age? 12\n",
      "Youth ticket is $7\n",
      "Do you want photo? Y or N: N\n",
      "Please pay $7\n"
     ]
    }
   ],
   "source": [
    "print(\"Welcome to the rollercoaster!\")\n",
    "height = int(input(\"What is your height in cm? \"))\n",
    "bill = 0\n",
    "\n",
    "if height >= 120:\n",
    "    print(\"You can ride the rollercoaster\")\n",
    "    age = int(input(\"What is your age? \"))\n",
    "    if age < 12:\n",
    "        bill = 5\n",
    "        print(\"Child ticket is $5\")\n",
    "    elif age <= 18:\n",
    "        bill = 7\n",
    "        print(\"Youth ticket is $7\")\n",
    "    else:\n",
    "        bill = 12\n",
    "        print(\"Adult ticket is $12\")\n",
    "        \n",
    "    wants_photo = input(\"Do you want photo? Y or N: \")\n",
    "    if wants_photo == \"Y\":\n",
    "        bill += 3\n",
    "    print(f\"Please pay ${bill}\")\n",
    "else:\n",
    "    print(\"Sorry, you have to grow taller before you can ride.\")"
   ]
  },
  {
   "cell_type": "code",
   "execution_count": 10,
   "id": "2de54558",
   "metadata": {},
   "outputs": [],
   "source": [
    "# Logical Operators\n",
    "# and, or, not"
   ]
  },
  {
   "cell_type": "code",
   "execution_count": 11,
   "id": "813f9870",
   "metadata": {},
   "outputs": [
    {
     "data": {
      "text/plain": [
       "True"
      ]
     },
     "execution_count": 11,
     "metadata": {},
     "output_type": "execute_result"
    }
   ],
   "source": [
    "a = 12\n",
    "a > 10 and a < 13"
   ]
  },
  {
   "cell_type": "code",
   "execution_count": 12,
   "id": "552fe830",
   "metadata": {},
   "outputs": [
    {
     "data": {
      "text/plain": [
       "False"
      ]
     },
     "execution_count": 12,
     "metadata": {},
     "output_type": "execute_result"
    }
   ],
   "source": [
    "a > 15 and a < 13"
   ]
  },
  {
   "cell_type": "code",
   "execution_count": 13,
   "id": "b0cddb83",
   "metadata": {},
   "outputs": [
    {
     "data": {
      "text/plain": [
       "True"
      ]
     },
     "execution_count": 13,
     "metadata": {},
     "output_type": "execute_result"
    }
   ],
   "source": [
    "a > 15 or a < 13"
   ]
  },
  {
   "cell_type": "code",
   "execution_count": 14,
   "id": "d03b8708",
   "metadata": {},
   "outputs": [
    {
     "data": {
      "text/plain": [
       "True"
      ]
     },
     "execution_count": 14,
     "metadata": {},
     "output_type": "execute_result"
    }
   ],
   "source": [
    "not a > 15"
   ]
  },
  {
   "cell_type": "code",
   "execution_count": 15,
   "id": "afc09b2f",
   "metadata": {},
   "outputs": [
    {
     "name": "stdout",
     "output_type": "stream",
     "text": [
      "Welcome to the rollercoaster!\n",
      "What is your height in cm? 123\n",
      "You can ride the rollercoaster\n",
      "What is your age? 50\n",
      "Everything is going to be okay. have a free ride on us!\n",
      "Do you want photo? Y or N: Y\n",
      "Please pay $3\n"
     ]
    }
   ],
   "source": [
    "print(\"Welcome to the rollercoaster!\")\n",
    "height = int(input(\"What is your height in cm? \"))\n",
    "bill = 0\n",
    "\n",
    "if height >= 120:\n",
    "    print(\"You can ride the rollercoaster\")\n",
    "    age = int(input(\"What is your age? \"))\n",
    "    if age < 12:\n",
    "        bill = 5\n",
    "        print(\"Child ticket is $5\")\n",
    "    elif age <= 18:\n",
    "        bill = 7\n",
    "        print(\"Youth ticket is $7\")\n",
    "    elif age >= 45 and age <= 55:\n",
    "        print(\"Everything is going to be okay. have a free ride on us!\")\n",
    "    else:\n",
    "        bill = 12\n",
    "        print(\"Adult ticket is $12\")\n",
    "        \n",
    "    wants_photo = input(\"Do you want photo? Y or N: \")\n",
    "    if wants_photo == \"Y\":\n",
    "        bill += 3\n",
    "    print(f\"Please pay ${bill}\")\n",
    "else:\n",
    "    print(\"Sorry, you have to grow taller before you can ride.\")"
   ]
  },
  {
   "cell_type": "code",
   "execution_count": null,
   "id": "b32d1407",
   "metadata": {},
   "outputs": [],
   "source": []
  }
 ],
 "metadata": {
  "kernelspec": {
   "display_name": "Python 3",
   "language": "python",
   "name": "python3"
  },
  "language_info": {
   "codemirror_mode": {
    "name": "ipython",
    "version": 3
   },
   "file_extension": ".py",
   "mimetype": "text/x-python",
   "name": "python",
   "nbconvert_exporter": "python",
   "pygments_lexer": "ipython3",
   "version": "3.8.8"
  }
 },
 "nbformat": 4,
 "nbformat_minor": 5
}
