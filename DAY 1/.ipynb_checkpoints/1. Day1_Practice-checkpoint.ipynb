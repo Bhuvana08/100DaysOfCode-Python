{
 "cells": [
  {
   "cell_type": "code",
   "execution_count": 1,
   "id": "69dd2f27",
   "metadata": {},
   "outputs": [
    {
     "name": "stdout",
     "output_type": "stream",
     "text": [
      "Hello World!\n"
     ]
    }
   ],
   "source": [
    "print(\"Hello World!\")"
   ]
  },
  {
   "cell_type": "code",
   "execution_count": 2,
   "id": "d6237623",
   "metadata": {},
   "outputs": [
    {
     "name": "stdout",
     "output_type": "stream",
     "text": [
      "It's cold here today!\n"
     ]
    }
   ],
   "source": [
    "print(\"It's cold here today!\")"
   ]
  },
  {
   "cell_type": "code",
   "execution_count": 3,
   "id": "5618c375",
   "metadata": {},
   "outputs": [
    {
     "name": "stdout",
     "output_type": "stream",
     "text": [
      "It's cold here today!\n"
     ]
    }
   ],
   "source": [
    "print('It\\'s cold here today!')"
   ]
  },
  {
   "cell_type": "code",
   "execution_count": 4,
   "id": "8cf6c04a",
   "metadata": {},
   "outputs": [
    {
     "name": "stdout",
     "output_type": "stream",
     "text": [
      "Hello Bhuvana\n"
     ]
    }
   ],
   "source": [
    "print(\"Hello\" +\" \"+\"Bhuvana\")"
   ]
  },
  {
   "cell_type": "code",
   "execution_count": 5,
   "id": "f0e47d24",
   "metadata": {},
   "outputs": [
    {
     "name": "stdout",
     "output_type": "stream",
     "text": [
      "Welcome to python Course!\n"
     ]
    }
   ],
   "source": [
    "print(\"Welcome\"+\" to\"+\" python\"+\" Course!\")"
   ]
  },
  {
   "cell_type": "code",
   "execution_count": 6,
   "id": "d09d2eba",
   "metadata": {},
   "outputs": [],
   "source": [
    "#input funnction"
   ]
  },
  {
   "cell_type": "code",
   "execution_count": 7,
   "id": "7cf83ee6",
   "metadata": {},
   "outputs": [
    {
     "name": "stdout",
     "output_type": "stream",
     "text": [
      "What's your name?Bhuvana\n",
      "Hello Bhuvana\n"
     ]
    }
   ],
   "source": [
    "print(\"Hello \"+input(\"What's your name?\"))"
   ]
  },
  {
   "cell_type": "code",
   "execution_count": 8,
   "id": "339dffdd",
   "metadata": {},
   "outputs": [],
   "source": [
    "# variables"
   ]
  },
  {
   "cell_type": "code",
   "execution_count": 9,
   "id": "a61d4ee5",
   "metadata": {},
   "outputs": [],
   "source": [
    "a = 20"
   ]
  },
  {
   "cell_type": "code",
   "execution_count": 10,
   "id": "75c4d903",
   "metadata": {},
   "outputs": [
    {
     "data": {
      "text/plain": [
       "20"
      ]
     },
     "execution_count": 10,
     "metadata": {},
     "output_type": "execute_result"
    }
   ],
   "source": [
    "a"
   ]
  },
  {
   "cell_type": "code",
   "execution_count": 11,
   "id": "89059922",
   "metadata": {},
   "outputs": [],
   "source": [
    "a = 32"
   ]
  },
  {
   "cell_type": "code",
   "execution_count": 12,
   "id": "f4638e97",
   "metadata": {},
   "outputs": [
    {
     "data": {
      "text/plain": [
       "32"
      ]
     },
     "execution_count": 12,
     "metadata": {},
     "output_type": "execute_result"
    }
   ],
   "source": [
    "a"
   ]
  },
  {
   "cell_type": "code",
   "execution_count": 14,
   "id": "b5d301f7",
   "metadata": {},
   "outputs": [
    {
     "name": "stdout",
     "output_type": "stream",
     "text": [
      "What is the weather currently? slightly cold\n",
      "It's  slightly cold  now.\n"
     ]
    }
   ],
   "source": [
    "weather_now = input(\"What is the weather currently? \")\n",
    "print(\"It's \", weather_now,\" now.\")"
   ]
  },
  {
   "cell_type": "code",
   "execution_count": null,
   "id": "e016696b",
   "metadata": {},
   "outputs": [],
   "source": []
  }
 ],
 "metadata": {
  "kernelspec": {
   "display_name": "Python 3",
   "language": "python",
   "name": "python3"
  },
  "language_info": {
   "codemirror_mode": {
    "name": "ipython",
    "version": 3
   },
   "file_extension": ".py",
   "mimetype": "text/x-python",
   "name": "python",
   "nbconvert_exporter": "python",
   "pygments_lexer": "ipython3",
   "version": "3.8.8"
  }
 },
 "nbformat": 4,
 "nbformat_minor": 5
}
