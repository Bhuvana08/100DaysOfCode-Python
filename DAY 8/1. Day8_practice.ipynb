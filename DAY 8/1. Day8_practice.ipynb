{
 "cells": [
  {
   "cell_type": "code",
   "execution_count": 1,
   "id": "90e10a76",
   "metadata": {},
   "outputs": [],
   "source": [
    "#Function parameters & Ceaser cipher"
   ]
  },
  {
   "cell_type": "code",
   "execution_count": 2,
   "id": "023e5d7f",
   "metadata": {},
   "outputs": [],
   "source": [
    "def greet():\n",
    "    print(\"Hello\")\n",
    "    print(\"welcome to python programming!\")\n",
    "    print(\"Have a great learning experience.\")"
   ]
  },
  {
   "cell_type": "code",
   "execution_count": 3,
   "id": "d69f631f",
   "metadata": {},
   "outputs": [
    {
     "name": "stdout",
     "output_type": "stream",
     "text": [
      "Hello\n",
      "welcome to python programming!\n",
      "Have a great learning experience.\n"
     ]
    }
   ],
   "source": [
    "greet()"
   ]
  },
  {
   "cell_type": "code",
   "execution_count": 7,
   "id": "07959662",
   "metadata": {},
   "outputs": [],
   "source": [
    "def greet_with_name(name):\n",
    "    print(f\"Hello {name}\")\n",
    "    print(\"welcome to python programming!\")\n",
    "    print(\"Have a great learning experience.\")"
   ]
  },
  {
   "cell_type": "code",
   "execution_count": 8,
   "id": "5c8dd22a",
   "metadata": {},
   "outputs": [
    {
     "name": "stdout",
     "output_type": "stream",
     "text": [
      "Hello Bhuvana\n",
      "welcome to python programming!\n",
      "Have a great learning experience.\n"
     ]
    }
   ],
   "source": [
    "greet_with_name(\"Bhuvana\")"
   ]
  },
  {
   "cell_type": "raw",
   "id": "b0c8417f",
   "metadata": {},
   "source": [
    "parameter - name of the variable the data that is paased into function\n",
    "\n",
    "argument - actual value of the data"
   ]
  },
  {
   "cell_type": "code",
   "execution_count": 11,
   "id": "2bcfe5e2",
   "metadata": {},
   "outputs": [],
   "source": [
    "#functions with more than 1 input\n",
    "def greet_with(name,location):\n",
    "    print(f\"Hello {name}\")\n",
    "    print(f\"What is it like in {location}?\")"
   ]
  },
  {
   "cell_type": "code",
   "execution_count": 14,
   "id": "25055347",
   "metadata": {},
   "outputs": [
    {
     "name": "stdout",
     "output_type": "stream",
     "text": [
      "Hello Bhuvana\n",
      "What is it like in JRG?\n"
     ]
    }
   ],
   "source": [
    "#positional arguments\n",
    "greet_with(\"Bhuvana\",\"JRG\") # order of arguments is important"
   ]
  },
  {
   "cell_type": "code",
   "execution_count": 16,
   "id": "6cf78ff2",
   "metadata": {},
   "outputs": [
    {
     "name": "stdout",
     "output_type": "stream",
     "text": [
      "Hello Lucky\n",
      "What is it like in JRG?\n"
     ]
    }
   ],
   "source": [
    "#keyword arguments\n",
    "greet_with(location = \"JRG\",name = \"Lucky\")"
   ]
  },
  {
   "cell_type": "code",
   "execution_count": null,
   "id": "a32aa7a3",
   "metadata": {},
   "outputs": [],
   "source": []
  }
 ],
 "metadata": {
  "kernelspec": {
   "display_name": "Python 3",
   "language": "python",
   "name": "python3"
  },
  "language_info": {
   "codemirror_mode": {
    "name": "ipython",
    "version": 3
   },
   "file_extension": ".py",
   "mimetype": "text/x-python",
   "name": "python",
   "nbconvert_exporter": "python",
   "pygments_lexer": "ipython3",
   "version": "3.8.8"
  }
 },
 "nbformat": 4,
 "nbformat_minor": 5
}
