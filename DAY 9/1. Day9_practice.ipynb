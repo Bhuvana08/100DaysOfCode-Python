{
 "cells": [
  {
   "cell_type": "code",
   "execution_count": 1,
   "id": "1ab87ca7",
   "metadata": {},
   "outputs": [],
   "source": [
    "# Dictionaries and nesting"
   ]
  },
  {
   "cell_type": "code",
   "execution_count": 2,
   "id": "98e7abca",
   "metadata": {},
   "outputs": [],
   "source": [
    "# Dictionary"
   ]
  },
  {
   "cell_type": "code",
   "execution_count": 3,
   "id": "a862e55b",
   "metadata": {},
   "outputs": [],
   "source": [
    "# Dictionary is used to group and tag related information\n",
    "# It is in the form of key-value pair"
   ]
  },
  {
   "cell_type": "code",
   "execution_count": 4,
   "id": "dc6f9971",
   "metadata": {},
   "outputs": [],
   "source": [
    "programming_dictionary = {\n",
    "    \"Bug\": \"An error in a program that prevents the program from running as expected.\",\n",
    "    \"Function\": \"A piece of code that you can easily call over and over again.\",\n",
    "    \"Loop\": \"The action of doing something over and over again\"\n",
    "}"
   ]
  },
  {
   "cell_type": "code",
   "execution_count": 5,
   "id": "72351aa5",
   "metadata": {},
   "outputs": [
    {
     "data": {
      "text/plain": [
       "'An error in a program that prevents the program from running as expected.'"
      ]
     },
     "execution_count": 5,
     "metadata": {},
     "output_type": "execute_result"
    }
   ],
   "source": [
    "# Retrieving items from dictionary\n",
    "programming_dictionary[\"Bug\"]"
   ]
  },
  {
   "cell_type": "code",
   "execution_count": 6,
   "id": "a4d32e9d",
   "metadata": {},
   "outputs": [],
   "source": [
    "# Adding to new items to dictionary\n",
    "programming_dictionary[\"if/else\"] = \"Statements that control the flow of program based on condition\""
   ]
  },
  {
   "cell_type": "code",
   "execution_count": 7,
   "id": "67db1b66",
   "metadata": {},
   "outputs": [
    {
     "data": {
      "text/plain": [
       "{'Bug': 'An error in a program that prevents the program from running as expected.',\n",
       " 'Function': 'A piece of code that you can easily call over and over again.',\n",
       " 'Loop': 'The action of doing something over and over again',\n",
       " 'if/else': 'Statements that control the flow of program based on condition'}"
      ]
     },
     "execution_count": 7,
     "metadata": {},
     "output_type": "execute_result"
    }
   ],
   "source": [
    "programming_dictionary"
   ]
  },
  {
   "cell_type": "code",
   "execution_count": 8,
   "id": "7dd3c080",
   "metadata": {},
   "outputs": [],
   "source": [
    "# Create an empty dictionary\n",
    "empty_dict = {}"
   ]
  },
  {
   "cell_type": "code",
   "execution_count": 9,
   "id": "1d1a92ca",
   "metadata": {},
   "outputs": [
    {
     "name": "stdout",
     "output_type": "stream",
     "text": [
      "{}\n"
     ]
    }
   ],
   "source": [
    "#Wipe an existing dictionary\n",
    "programming_dictionary = {}\n",
    "print(programming_dictionary)"
   ]
  },
  {
   "cell_type": "code",
   "execution_count": 10,
   "id": "7a64090c",
   "metadata": {},
   "outputs": [],
   "source": [
    "programming_dictionary = {\n",
    "    \"Bug\": \"An error in a program that prevents the program from running as expected.\",\n",
    "    \"Function\": \"A piece of code that you can easily call over and over again.\",\n",
    "    \"Loop\": \"The action of doing something over and over again\"\n",
    "}"
   ]
  },
  {
   "cell_type": "code",
   "execution_count": 11,
   "id": "b320c36a",
   "metadata": {},
   "outputs": [
    {
     "data": {
      "text/plain": [
       "{'Bug': 'A moth in your computer',\n",
       " 'Function': 'A piece of code that you can easily call over and over again.',\n",
       " 'Loop': 'The action of doing something over and over again'}"
      ]
     },
     "execution_count": 11,
     "metadata": {},
     "output_type": "execute_result"
    }
   ],
   "source": [
    "# Edit item in an dictionary\n",
    "programming_dictionary[\"Bug\"] = \"A moth in your computer\"\n",
    "programming_dictionary"
   ]
  },
  {
   "cell_type": "code",
   "execution_count": 13,
   "id": "5deffa9f",
   "metadata": {},
   "outputs": [
    {
     "name": "stdout",
     "output_type": "stream",
     "text": [
      "Bug\n",
      "A moth in your computer\n",
      "Function\n",
      "A piece of code that you can easily call over and over again.\n",
      "Loop\n",
      "The action of doing something over and over again\n"
     ]
    }
   ],
   "source": [
    "# Loop through a dictionary\n",
    "for key in programming_dictionary:\n",
    "    print(key)\n",
    "    print(programming_dictionary[key])"
   ]
  },
  {
   "cell_type": "code",
   "execution_count": 1,
   "id": "ae5a177a",
   "metadata": {},
   "outputs": [],
   "source": [
    "# Nesting "
   ]
  },
  {
   "cell_type": "code",
   "execution_count": 2,
   "id": "ee09e975",
   "metadata": {},
   "outputs": [],
   "source": [
    "# Nesting a list in dictionary"
   ]
  },
  {
   "cell_type": "code",
   "execution_count": 3,
   "id": "1ec0e3a7",
   "metadata": {},
   "outputs": [],
   "source": [
    "travel_log = {\"Andhra Pradesh\":[\"Tirupathi\",\"Vizag\",\"Ooty\",\"Perupalem Beach\"],\n",
    "              \"Tamil Nadu\":[\"Rameshwaram\",\"Kanyakumari\",\"Sun Temple\"]\n",
    "             }"
   ]
  },
  {
   "cell_type": "code",
   "execution_count": 4,
   "id": "dbf8a5a5",
   "metadata": {},
   "outputs": [],
   "source": [
    "# Nesting a dictionary a dictionary"
   ]
  },
  {
   "cell_type": "code",
   "execution_count": 5,
   "id": "221e6289",
   "metadata": {},
   "outputs": [],
   "source": [
    "travel_log = {\"Andhra Pradesh\":{\"places_visited\":[\"Tirupathi\",\"Vizag\",\"Ooty\",\"Perupalem Beach\"],\"total_visits\":10},\n",
    "              \"Tamil Nadu\":[\"Rameshwaram\",\"Kanyakumari\",\"Sun Temple\"]\n",
    "             }"
   ]
  },
  {
   "cell_type": "code",
   "execution_count": 7,
   "id": "a047ccb9",
   "metadata": {},
   "outputs": [],
   "source": [
    "# Nesting a dictionary in list"
   ]
  },
  {
   "cell_type": "code",
   "execution_count": 8,
   "id": "e749724a",
   "metadata": {},
   "outputs": [],
   "source": [
    "travel_log = [{\"state\": \"Andhra Pradesh\",\n",
    "               \"places_visited\":[\"Tirupathi\",\"Vizag\",\"Ooty\",\"Perupalem Beach\"],\n",
    "               \"total_visits\":10},\n",
    "              \n",
    "              {\"state\": \"Tamil Nadu\",\n",
    "               \"places_visited\":[\"Rameshwaram\",\"Kanyakumari\",\"Sun Temple\"],\n",
    "               \"total_visits\":12}\n",
    "             ]"
   ]
  },
  {
   "cell_type": "code",
   "execution_count": null,
   "id": "3e6696d5",
   "metadata": {},
   "outputs": [],
   "source": []
  }
 ],
 "metadata": {
  "kernelspec": {
   "display_name": "Python 3",
   "language": "python",
   "name": "python3"
  },
  "language_info": {
   "codemirror_mode": {
    "name": "ipython",
    "version": 3
   },
   "file_extension": ".py",
   "mimetype": "text/x-python",
   "name": "python",
   "nbconvert_exporter": "python",
   "pygments_lexer": "ipython3",
   "version": "3.8.8"
  }
 },
 "nbformat": 4,
 "nbformat_minor": 5
}
