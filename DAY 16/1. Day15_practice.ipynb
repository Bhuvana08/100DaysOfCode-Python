{
 "cells": [
  {
   "cell_type": "code",
   "execution_count": 1,
   "id": "4288465e",
   "metadata": {},
   "outputs": [],
   "source": [
    "#class name are generally written in PascalCase"
   ]
  },
  {
   "cell_type": "code",
   "execution_count": 1,
   "id": "075f4d69",
   "metadata": {},
   "outputs": [],
   "source": [
    "from turtle import Turtle,Screen"
   ]
  },
  {
   "cell_type": "code",
   "execution_count": 2,
   "id": "95c93e30",
   "metadata": {},
   "outputs": [
    {
     "name": "stdout",
     "output_type": "stream",
     "text": [
      "<turtle.Turtle object at 0x000001AE6A243FA0>\n"
     ]
    }
   ],
   "source": [
    "timmy = Turtle()\n",
    "print(timmy)\n",
    "timmy.shape(\"turtle\")\n",
    "timmy.color(\"DarkRed\")\n",
    "timmy.forward(100)"
   ]
  },
  {
   "cell_type": "code",
   "execution_count": 3,
   "id": "f9a67962",
   "metadata": {},
   "outputs": [
    {
     "name": "stdout",
     "output_type": "stream",
     "text": [
      "300\n"
     ]
    }
   ],
   "source": [
    "my_screen = Screen()\n",
    "print(my_screen.canvheight)\n",
    "my_screen.exitonclick()"
   ]
  },
  {
   "cell_type": "code",
   "execution_count": 2,
   "id": "27dd1aa4",
   "metadata": {},
   "outputs": [
    {
     "name": "stdout",
     "output_type": "stream",
     "text": [
      "Collecting prettytable\n",
      "  Downloading prettytable-3.10.0-py3-none-any.whl (28 kB)\n",
      "Requirement already satisfied: wcwidth in c:\\users\\bhuva\\anaconda3\\lib\\site-packages (from prettytable) (0.2.5)\n",
      "Installing collected packages: prettytable\n",
      "Successfully installed prettytable-3.10.0\n",
      "Note: you may need to restart the kernel to use updated packages.\n"
     ]
    }
   ],
   "source": [
    "pip install prettytable"
   ]
  },
  {
   "cell_type": "code",
   "execution_count": 4,
   "id": "7b860133",
   "metadata": {},
   "outputs": [],
   "source": [
    "from prettytable import PrettyTable"
   ]
  },
  {
   "cell_type": "code",
   "execution_count": 5,
   "id": "0fc8548c",
   "metadata": {},
   "outputs": [],
   "source": [
    "table = PrettyTable()"
   ]
  },
  {
   "cell_type": "code",
   "execution_count": 6,
   "id": "d966c296",
   "metadata": {},
   "outputs": [],
   "source": [
    "table.add_column(\"Pokemon Name\",\n",
    "[\"Pikachu\",\"Squirtle\",\"Charmander\"])\n",
    "table.add_column(\"Type\",\n",
    "[\"Electric\",\"Water\",\"Fire\"])"
   ]
  },
  {
   "cell_type": "code",
   "execution_count": 8,
   "id": "f3eeffb9",
   "metadata": {},
   "outputs": [
    {
     "name": "stdout",
     "output_type": "stream",
     "text": [
      "+--------------+----------+\n",
      "| Pokemon Name | Type     |\n",
      "+--------------+----------+\n",
      "| Pikachu      | Electric |\n",
      "| Squirtle     | Water    |\n",
      "| Charmander   | Fire     |\n",
      "+--------------+----------+\n"
     ]
    }
   ],
   "source": [
    "table.align = \"l\"\n",
    "print(table)"
   ]
  },
  {
   "cell_type": "code",
   "execution_count": null,
   "id": "df3d1b5f",
   "metadata": {},
   "outputs": [],
   "source": []
  }
 ],
 "metadata": {
  "kernelspec": {
   "display_name": "Python 3",
   "language": "python",
   "name": "python3"
  },
  "language_info": {
   "codemirror_mode": {
    "name": "ipython",
    "version": 3
   },
   "file_extension": ".py",
   "mimetype": "text/x-python",
   "name": "python",
   "nbconvert_exporter": "python",
   "pygments_lexer": "ipython3",
   "version": "3.8.8"
  }
 },
 "nbformat": 4,
 "nbformat_minor": 5
}
