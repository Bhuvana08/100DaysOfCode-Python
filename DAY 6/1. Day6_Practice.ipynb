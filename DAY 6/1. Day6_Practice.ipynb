{
 "cells": [
  {
   "cell_type": "code",
   "execution_count": 1,
   "id": "bc652f0a",
   "metadata": {},
   "outputs": [],
   "source": [
    "# functions, while loops"
   ]
  },
  {
   "cell_type": "code",
   "execution_count": 2,
   "id": "9c865f8d",
   "metadata": {},
   "outputs": [],
   "source": [
    "## Functions"
   ]
  },
  {
   "cell_type": "code",
   "execution_count": 3,
   "id": "60ed9d1a",
   "metadata": {},
   "outputs": [],
   "source": [
    "# Built -in functions"
   ]
  },
  {
   "cell_type": "code",
   "execution_count": 4,
   "id": "d730e021",
   "metadata": {},
   "outputs": [
    {
     "name": "stdout",
     "output_type": "stream",
     "text": [
      "Hello\n"
     ]
    }
   ],
   "source": [
    "print(\"Hello\")"
   ]
  },
  {
   "cell_type": "code",
   "execution_count": 5,
   "id": "1cfd9b32",
   "metadata": {},
   "outputs": [
    {
     "data": {
      "text/plain": [
       "5"
      ]
     },
     "execution_count": 5,
     "metadata": {},
     "output_type": "execute_result"
    }
   ],
   "source": [
    "len(\"Hello\")"
   ]
  },
  {
   "cell_type": "code",
   "execution_count": 6,
   "id": "213c0320",
   "metadata": {},
   "outputs": [],
   "source": [
    "# defining a function\n",
    "\n",
    "def my_function():\n",
    "    print(\"Hello\")\n",
    "    print(\"Bye\")"
   ]
  },
  {
   "cell_type": "code",
   "execution_count": 8,
   "id": "c26a2fcc",
   "metadata": {},
   "outputs": [
    {
     "name": "stdout",
     "output_type": "stream",
     "text": [
      "Hello\n",
      "Bye\n"
     ]
    }
   ],
   "source": [
    "my_function() #calling the function"
   ]
  },
  {
   "cell_type": "code",
   "execution_count": 10,
   "id": "f1c8d207",
   "metadata": {},
   "outputs": [],
   "source": [
    "# while loops\n",
    "\n",
    "#while somehing_is_true:\n",
    "#    do_something"
   ]
  },
  {
   "cell_type": "raw",
   "id": "8aa4aba9",
   "metadata": {},
   "source": [
    "# Reeborg's World, Hurdle 1\n",
    "\n",
    "def turn_right():\n",
    "    turn_left()\n",
    "    turn_left()\n",
    "    turn_left()\n",
    "\n",
    "def jump():\n",
    "    move()\n",
    "    turn_left()\n",
    "    move()\n",
    "    turn_right()\n",
    "    move()\n",
    "    turn_right()\n",
    "    move()\n",
    "    turn_left()\n",
    "\n",
    "\n",
    "number_of_hurdles = 6\n",
    "while number_of_hurdles > 0:\n",
    "    jump()\n",
    "    number_of_hurdles -= 1"
   ]
  },
  {
   "cell_type": "raw",
   "id": "f31a0229",
   "metadata": {},
   "source": [
    "# Reeborg'sWorld, Hurdle 2\n",
    "   \n",
    "def turn_right():\n",
    "    turn_left()\n",
    "    turn_left()\n",
    "    turn_left()\n",
    "\n",
    "def jump():\n",
    "    move()\n",
    "    turn_left()\n",
    "    move()\n",
    "    turn_right()\n",
    "    move()\n",
    "    turn_right()\n",
    "    move()\n",
    "    turn_left()\n",
    "\n",
    "\n",
    "while not at_goal():\n",
    "    jump()"
   ]
  },
  {
   "cell_type": "raw",
   "id": "16273bcc",
   "metadata": {},
   "source": [
    "## Reeborg's World, Hurdle 3\n",
    "\n",
    "def turn_right():\n",
    "    turn_left()\n",
    "    turn_left()\n",
    "    turn_left()\n",
    "\n",
    "def jump():\n",
    "    turn_left()\n",
    "    move()\n",
    "    turn_right()\n",
    "    move()\n",
    "    turn_right()\n",
    "    move()\n",
    "    turn_left()\n",
    "\n",
    "\n",
    "while not at_goal():\n",
    "    if wall_in_front():\n",
    "        jump()\n",
    "    else:\n",
    "        move()\n"
   ]
  },
  {
   "cell_type": "raw",
   "id": "234643a0",
   "metadata": {},
   "source": [
    "# reeborg's World, Hurdle 4\n",
    "\n",
    "def turn_right():\n",
    "    turn_left()\n",
    "    turn_left()\n",
    "    turn_left()\n",
    "\n",
    "def jump():\n",
    "    turn_left()\n",
    "    while not right_is_clear():\n",
    "        move()\n",
    "    turn_right()\n",
    "    move()\n",
    "    turn_right()\n",
    "    while front_is_clear():\n",
    "        move()\n",
    "    turn_left()\n",
    "\n",
    "while not at_goal():\n",
    "    if wall_in_front():\n",
    "        jump()\n",
    "    else:\n",
    "        move()\n"
   ]
  },
  {
   "cell_type": "code",
   "execution_count": null,
   "id": "1739f1c8",
   "metadata": {},
   "outputs": [],
   "source": []
  }
 ],
 "metadata": {
  "kernelspec": {
   "display_name": "Python 3",
   "language": "python",
   "name": "python3"
  },
  "language_info": {
   "codemirror_mode": {
    "name": "ipython",
    "version": 3
   },
   "file_extension": ".py",
   "mimetype": "text/x-python",
   "name": "python",
   "nbconvert_exporter": "python",
   "pygments_lexer": "ipython3",
   "version": "3.8.8"
  }
 },
 "nbformat": 4,
 "nbformat_minor": 5
}
